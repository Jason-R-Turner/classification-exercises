{
 "cells": [
  {
   "cell_type": "markdown",
   "id": "44974435-7b9a-4604-9840-d86bf079eaab",
   "metadata": {},
   "source": [
    "# Expore exercises"
   ]
  },
  {
   "cell_type": "code",
   "execution_count": null,
   "id": "3b53914e-fed5-4c0b-845f-8d5655ef032e",
   "metadata": {},
   "outputs": [],
   "source": [
    "df = prep_iris_data"
   ]
  },
  {
   "cell_type": "markdown",
   "id": "156ef7f4-cae8-472c-a9b1-ac5dbaef571d",
   "metadata": {},
   "source": [
    "from sklearn.model_selection import train_test_split"
   ]
  },
  {
   "cell_type": "code",
   "execution_count": null,
   "id": "3f5dcc80-888e-4b25-9d88-b88e09b7aecd",
   "metadata": {},
   "outputs": [],
   "source": [
    "#80/20\n",
    "train, test = tran_test_split(df, train_size=0.8, random_stat=1349, stratify=df.species)"
   ]
  },
  {
   "cell_type": "code",
   "execution_count": null,
   "id": "cb3d497a-8939-4e67-b30e-96f06728e54c",
   "metadata": {},
   "outputs": [],
   "source": [
    "train.head()"
   ]
  },
  {
   "cell_type": "code",
   "execution_count": null,
   "id": "9a28a9d7-8014-480f-a0f1-740de23eb429",
   "metadata": {},
   "outputs": [],
   "source": [
    "train.info()"
   ]
  },
  {
   "cell_type": "code",
   "execution_count": null,
   "id": "d3561022-9be9-4ac5-94ae-585d5943e7fa",
   "metadata": {},
   "outputs": [],
   "source": [
    "train.describe()"
   ]
  },
  {
   "cell_type": "code",
   "execution_count": null,
   "id": "185fceec-a83b-47d2-a75d-54559fed4c86",
   "metadata": {},
   "outputs": [],
   "source": [
    "# Plot numeric columns\n",
    "\n",
    "\n",
    "plt.title(col)\n",
    "plt.show()"
   ]
  },
  {
   "cell_type": "code",
   "execution_count": null,
   "id": "8f471bf3-11f1-424d-84d2-70883fb4541d",
   "metadata": {},
   "outputs": [],
   "source": [
    "train.species.value_counts()"
   ]
  },
  {
   "cell_type": "code",
   "execution_count": null,
   "id": "0e202102-4b05-4ec5-a876-705bc56c8df8",
   "metadata": {},
   "outputs": [],
   "source": [
    "plt.hist(train.species)"
   ]
  },
  {
   "cell_type": "markdown",
   "id": "70f4fe04-23e4-4e26-b2ca-96b711f87988",
   "metadata": {},
   "source": [
    "multivariate"
   ]
  },
  {
   "cell_type": "code",
   "execution_count": null,
   "id": "a509604c-474d-489f-9e7f-df4b99e4e7a9",
   "metadata": {},
   "outputs": [],
   "source": [
    "sns.barplot(x='species', y='sepal_length', data=train)"
   ]
  },
  {
   "cell_type": "code",
   "execution_count": null,
   "id": "46658047-e608-4f2d-a521-821b8dc9b054",
   "metadata": {},
   "outputs": [],
   "source": [
    "mean_sepal_length = train.sepal_length.mean()\n",
    "plt.axhline(mean_sepal_length, label=\"Mean sepal length\", color''red', linestyle='dotted')\n",
    "plt.xlabel('')\n",
    "plt.legend()\n",
    "plt.show()"
   ]
  },
  {
   "cell_type": "code",
   "execution_count": null,
   "id": "0310d41b-1333-4985-859b-c8a8b56646ad",
   "metadata": {},
   "outputs": [],
   "source": [
    "# Viginica statistics and for each type\n",
    "# Flips describe statement stats, count mean std, min 25% 50% 75%, max columns and rows\n",
    "\n",
    "virginica_describe_pw = pd.DataFrame\n",
    "\n",
    "versicolor_describe = pd.concat([versicolor_describe, versicolo_describe_pl], axis=1)\n",
    "versicolor_describe = pd.concat([versicolor_describe, versicolo_describe_pw], axis=1)\n",
    "versicolor_describe"
   ]
  },
  {
   "cell_type": "code",
   "execution_count": null,
   "id": "031c99f6-3194-4fab-a809-7c9b4d56f41e",
   "metadata": {},
   "outputs": [],
   "source": [
    "virginica = train[train.species == 'virginica']\n",
    "versicolor = train[train.species == 'versicolor']\n",
    "setosa = train[train.species == 'setosa']\n",
    "\n",
    "t, p = stats.mannwhitneyu(virginca.petal_width, versicolor.petal_width, alternative='greater')\n",
    "t, p"
   ]
  },
  {
   "cell_type": "code",
   "execution_count": null,
   "id": "b27ed4d5-f32d-45fa-8a7b-089152765b0b",
   "metadata": {},
   "outputs": [],
   "source": [
    "test_var = ['sepal_length'...\n",
    "for var in test_var:\n",
    "    t, p = t, p stats.mannwhitneyu(virginca.petal')\n",
    "\n",
    "print(f'Comparing {var} between virginca and versicolor)\n",
    "print(t, p)\n",
    "print"
   ]
  },
  {
   "cell_type": "code",
   "execution_count": null,
   "id": "dab17508-864b-4deb-9649-7b181f604dd9",
   "metadata": {},
   "outputs": [],
   "source": [
    "# When using Mann-Whitney U you may need to restate the your null and alternate hypothesis"
   ]
  },
  {
   "cell_type": "code",
   "execution_count": null,
   "id": "25265fce-d077-4328-9be3-5cee15098aac",
   "metadata": {},
   "outputs": [],
   "source": [
    "def scatter_species(x, y):\n",
    "    for species, subset in train.groupby('species'):\n",
    "        plt.scatter(subset[x], subset[y], "
   ]
  },
  {
   "cell_type": "code",
   "execution_count": null,
   "id": "f5edb163-a3ca-448a-887f-682e8d8edf82",
   "metadata": {},
   "outputs": [],
   "source": [
    "for i, pair in enumerate(combos):\n",
    "    plt.subplot(2, 2, +"
   ]
  },
  {
   "cell_type": "code",
   "execution_count": null,
   "id": "e6a86ac5-b783-4276-973f-3965c1f42562",
   "metadata": {},
   "outputs": [],
   "source": [
    "train.corr()"
   ]
  },
  {
   "cell_type": "code",
   "execution_count": null,
   "id": "df9fad1b-5430-40c9-9a20-50e2c4a8ea93",
   "metadata": {},
   "outputs": [],
   "source": []
  }
 ],
 "metadata": {
  "kernelspec": {
   "display_name": "Python 3 (ipykernel)",
   "language": "python",
   "name": "python3"
  },
  "language_info": {
   "codemirror_mode": {
    "name": "ipython",
    "version": 3
   },
   "file_extension": ".py",
   "mimetype": "text/x-python",
   "name": "python",
   "nbconvert_exporter": "python",
   "pygments_lexer": "ipython3",
   "version": "3.9.7"
  }
 },
 "nbformat": 4,
 "nbformat_minor": 5
}
